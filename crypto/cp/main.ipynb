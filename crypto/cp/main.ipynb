{
 "cells": [
  {
   "cell_type": "markdown",
   "id": "37a80107",
   "metadata": {},
   "source": [
    "# Курсовой проект по теме \"Аутентификация с асимметричными алгоритмами шифрования в сети Интернет\"\n",
    "\n",
    "Выполнил Ширяев Никита Алексеевич М8О-308Б-22"
   ]
  },
  {
   "cell_type": "markdown",
   "id": "5d30826f",
   "metadata": {},
   "source": [
    "## Порядок выполнения курсового проекта:\n",
    "1. Выбрать не менее 3-ёх web-серверов сети Интернет различной организационной и государственной принадлежности.\n",
    "2. Запустить Wireshark/tcpdump в режиме записи.\n",
    "3. Используя Firefox/Chrome/Safari/Иной Браузер установить https соединение с выбранным сервером и убедиться в установке соединения.\n",
    "4. Сохранить данные необходимые для последующего сравнительного анализа:\n",
    "    * Имя сервера, его характеристики.\n",
    "    * Версия TLS.\n",
    "    * Выбранные алгоритмы шифрования.\n",
    "    * Полученный сертификат: версия, действителен ли сертификат, правильность ключа, удостоверяющий центр.\n",
    "    * Время установки соединения (от ClientHello до Finished)\n",
    "5. Если список исследуемых серверов не исчерпан выбрать другой сервер и повторить\n",
    "соединение.\n",
    "6. Если браузер поддерживал соединение TLS 1.2 / 1.3 принудительно изменить параметры TLS\n",
    "(для соединения в Firefox на TLS 1.0 / 1.1 в браузере перейти по адресу “about:config” и изменить раздел SSL\\TLS, security.tls.version.enable-deprecated) и провести попытки соединения с выбранными серверами.\n",
    "7. Провести сравнительный анализ полученной информации.\n",
    "8. В качестве отчета представить результаты сравнительного анализа, выводы в отношении безопасности и корректности настройки веб-серверов с учетом их организационной и государственной принадлежности."
   ]
  },
  {
   "cell_type": "markdown",
   "id": "bd3a6975",
   "metadata": {},
   "source": [
    "## 1. Выбор серверов\n",
    "\n",
    "Выберем три сайта:\n",
    "1. Международный: https://google.com\n",
    "2. Государственный: https://gov.ru\n",
    "3. Коммерческий: https://yandex.ru"
   ]
  },
  {
   "cell_type": "code",
   "execution_count": 1,
   "id": "7f5e9ff3",
   "metadata": {},
   "outputs": [],
   "source": [
    "server_int = \"google.com\"\n",
    "server_gos = \"gosuslugi.ru\"\n",
    "server_com = \"yandex.ru\""
   ]
  },
  {
   "cell_type": "markdown",
   "id": "979f1ab1",
   "metadata": {},
   "source": [
    "## 2. Получение информации о сертификате"
   ]
  },
  {
   "cell_type": "code",
   "execution_count": 2,
   "id": "431b92ee",
   "metadata": {},
   "outputs": [
    {
     "name": "stdout",
     "output_type": "stream",
     "text": [
      "\n",
      "--- Сертификат google.com ---\n",
      "Домен: google.com\n",
      "Издатель: <Name(C=US,O=Google Trust Services,CN=WE2)>\n",
      "Алгоритм подписи: <ObjectIdentifier(oid=1.2.840.10045.4.3.2, name=ecdsa-with-SHA256)>\n",
      "Срок действия: 2025-06-12 11:18:49\n",
      "\n",
      "--- Сертификат gosuslugi.ru ---\n",
      "Домен: gosuslugi.ru\n",
      "Издатель: <Name(C=BE,O=GlobalSign nv-sa,CN=GlobalSign GCC R3 DV TLS CA 2020)>\n",
      "Алгоритм подписи: <ObjectIdentifier(oid=1.2.840.113549.1.1.11, name=sha256WithRSAEncryption)>\n",
      "Срок действия: 2025-11-23 09:08:08\n",
      "\n",
      "--- Сертификат yandex.ru ---\n",
      "Домен: yandex.ru\n",
      "Издатель: <Name(C=BE,O=GlobalSign nv-sa,CN=GlobalSign ECC OV SSL CA 2018)>\n",
      "Алгоритм подписи: <ObjectIdentifier(oid=1.2.840.10045.4.3.3, name=ecdsa-with-SHA384)>\n",
      "Срок действия: 2025-06-03 20:59:59\n"
     ]
    },
    {
     "name": "stderr",
     "output_type": "stream",
     "text": [
      "C:\\Users\\Zenbook\\AppData\\Local\\Temp\\ipykernel_8128\\2153858711.py:18: CryptographyDeprecationWarning: Properties that return a naïve datetime object have been deprecated. Please switch to not_valid_after_utc.\n",
      "  print(f\"Срок действия: {cert.not_valid_after}\")\n"
     ]
    }
   ],
   "source": [
    "import ssl\n",
    "import socket\n",
    "from cryptography import x509\n",
    "from cryptography.hazmat.backends import default_backend\n",
    "\n",
    "\n",
    "def get_certificate_info(hostname, port=443):\n",
    "    context = ssl.create_default_context()\n",
    "    with socket.create_connection((hostname, port)) as sock:\n",
    "        with context.wrap_socket(sock, server_hostname=hostname) as ssock:\n",
    "            cert_der = ssock.getpeercert(binary_form=True)\n",
    "            cert = x509.load_der_x509_certificate(cert_der, default_backend())\n",
    "\n",
    "            print(f\"\\n--- Сертификат {hostname} ---\")\n",
    "            print(f\"Домен: {hostname}\")\n",
    "            print(f\"Издатель: {cert.issuer}\")\n",
    "            print(f\"Алгоритм подписи: {cert.signature_algorithm_oid}\")\n",
    "            print(f\"Срок действия: {cert.not_valid_after}\")\n",
    "\n",
    "\n",
    "get_certificate_info(server_int)\n",
    "get_certificate_info(server_gos)\n",
    "get_certificate_info(server_com)"
   ]
  },
  {
   "cell_type": "markdown",
   "id": "dc4812fb",
   "metadata": {},
   "source": [
    "## 3. Определение версии TLS и алгоритмов"
   ]
  },
  {
   "cell_type": "code",
   "execution_count": 3,
   "id": "286d99c4",
   "metadata": {},
   "outputs": [
    {
     "name": "stdout",
     "output_type": "stream",
     "text": [
      "\n",
      "--- google.com ---\n",
      "TLS-версия: TLSv1.3\n",
      "Выбранный алгоритм: ('TLS_AES_256_GCM_SHA384', 'TLSv1.3', 256)\n",
      "\n",
      "--- gosuslugi.ru ---\n",
      "TLS-версия: TLSv1.3\n",
      "Выбранный алгоритм: ('TLS_AES_128_GCM_SHA256', 'TLSv1.3', 128)\n",
      "\n",
      "--- yandex.ru ---\n",
      "TLS-версия: TLSv1.3\n",
      "Выбранный алгоритм: ('TLS_AES_256_GCM_SHA384', 'TLSv1.3', 256)\n"
     ]
    }
   ],
   "source": [
    "def check_tls_version(hostname):\n",
    "    context = ssl.create_default_context()\n",
    "    with socket.create_connection((hostname, 443)) as sock:\n",
    "        with context.wrap_socket(sock, server_hostname=hostname) as ssock:\n",
    "            print(f\"\\n--- {hostname} ---\")\n",
    "            print(f\"TLS-версия: {ssock.version()}\")\n",
    "            print(f\"Выбранный алгоритм: {ssock.cipher()}\")\n",
    "\n",
    "\n",
    "check_tls_version(server_int)\n",
    "check_tls_version(server_gos)\n",
    "check_tls_version(server_com)"
   ]
  },
  {
   "cell_type": "markdown",
   "id": "e77bd477",
   "metadata": {},
   "source": [
    "## 4. Замер времени установки соединения"
   ]
  },
  {
   "cell_type": "code",
   "execution_count": 4,
   "id": "aab2b676",
   "metadata": {},
   "outputs": [
    {
     "data": {
      "application/vnd.plotly.v1+json": {
       "config": {
        "plotlyServerURL": "https://plot.ly"
       },
       "data": [
        {
         "name": "Международный сервер",
         "type": "scatter",
         "y": [
          65.29092788696289,
          68.27116012573242,
          77.51631736755371,
          74.85246658325195,
          61.59710884094238,
          75.79803466796875,
          64.88966941833496,
          64.43166732788086,
          67.0623779296875,
          80.9013843536377,
          65.40465354919434,
          66.6811466217041,
          68.37129592895508,
          58.92753601074219,
          59.05485153198242,
          61.55276298522949,
          70.07956504821777,
          65.84906578063965,
          65.37199020385742,
          63.278913497924805,
          62.60800361633301,
          84.69676971435547,
          60.27483940124512,
          89.18619155883789,
          59.778690338134766,
          64.69011306762695,
          60.88614463806152,
          60.47964096069336,
          67.31891632080078,
          87.23115921020508,
          90.8195972442627,
          67.00444221496582,
          56.47444725036621,
          57.10554122924805,
          61.40637397766113,
          58.34698677062988,
          60.324668884277344,
          68.97139549255371,
          55.483341217041016,
          57.37495422363281,
          88.68598937988281,
          79.86187934875488,
          60.46032905578613,
          60.98175048828125,
          60.85991859436035,
          55.65333366394043,
          50.804853439331055,
          62.97421455383301,
          53.9400577545166,
          68.53151321411133
         ]
        },
        {
         "name": "Государственный сервер",
         "type": "scatter",
         "y": [
          26.9315242767334,
          23.184776306152344,
          29.437541961669922,
          26.215076446533203,
          26.069164276123047,
          32.76538848876953,
          24.248838424682617,
          24.53303337097168,
          28.400659561157227,
          26.799917221069336,
          53.028106689453125,
          25.38156509399414,
          25.446653366088867,
          23.98681640625,
          30.1971435546875,
          22.176742553710938,
          27.396440505981445,
          23.8339900970459,
          25.03180503845215,
          23.367643356323242,
          26.917457580566406,
          22.754430770874023,
          26.459932327270508,
          21.44026756286621,
          38.22827339172363,
          23.571491241455078,
          26.64780616760254,
          26.179075241088867,
          23.261547088623047,
          35.94493865966797,
          25.24542808532715,
          78.63903045654297,
          24.249553680419922,
          80.60503005981445,
          31.226158142089844,
          23.027896881103516,
          41.118621826171875,
          31.056880950927734,
          71.57373428344727,
          31.59332275390625,
          28.531312942504883,
          39.566993713378906,
          27.402400970458984,
          26.42369270324707,
          24.167299270629883,
          27.32992172241211,
          23.70929718017578,
          46.0357666015625,
          75.07538795471191,
          25.13742446899414
         ]
        },
        {
         "name": "Коммерческий сервер",
         "type": "scatter",
         "y": [
          29.729127883911133,
          33.564090728759766,
          47.182559967041016,
          33.90192985534668,
          52.27255821228027,
          34.001827239990234,
          67.72136688232422,
          35.846710205078125,
          29.485464096069336,
          62.89982795715332,
          32.1507453918457,
          29.274940490722656,
          31.49557113647461,
          52.98328399658203,
          45.26543617248535,
          35.18939018249512,
          57.27672576904297,
          37.480831146240234,
          29.200077056884766,
          29.171466827392578,
          29.280424118041992,
          31.66651725769043,
          29.90412712097168,
          28.201818466186523,
          41.899681091308594,
          35.79902648925781,
          31.996726989746094,
          28.39803695678711,
          28.26380729675293,
          28.466224670410156,
          32.311439514160156,
          35.99214553833008,
          29.4492244720459,
          33.11276435852051,
          28.730154037475586,
          28.29766273498535,
          30.49635887145996,
          34.960031509399414,
          42.09709167480469,
          30.64107894897461,
          36.859989166259766,
          32.453298568725586,
          28.36775779724121,
          27.283668518066406,
          30.272483825683594,
          27.358055114746094,
          27.6944637298584,
          28.11145782470703,
          36.554574966430664,
          30.78150749206543
         ]
        }
       ],
       "layout": {
        "template": {
         "data": {
          "bar": [
           {
            "error_x": {
             "color": "#2a3f5f"
            },
            "error_y": {
             "color": "#2a3f5f"
            },
            "marker": {
             "line": {
              "color": "#E5ECF6",
              "width": 0.5
             },
             "pattern": {
              "fillmode": "overlay",
              "size": 10,
              "solidity": 0.2
             }
            },
            "type": "bar"
           }
          ],
          "barpolar": [
           {
            "marker": {
             "line": {
              "color": "#E5ECF6",
              "width": 0.5
             },
             "pattern": {
              "fillmode": "overlay",
              "size": 10,
              "solidity": 0.2
             }
            },
            "type": "barpolar"
           }
          ],
          "carpet": [
           {
            "aaxis": {
             "endlinecolor": "#2a3f5f",
             "gridcolor": "white",
             "linecolor": "white",
             "minorgridcolor": "white",
             "startlinecolor": "#2a3f5f"
            },
            "baxis": {
             "endlinecolor": "#2a3f5f",
             "gridcolor": "white",
             "linecolor": "white",
             "minorgridcolor": "white",
             "startlinecolor": "#2a3f5f"
            },
            "type": "carpet"
           }
          ],
          "choropleth": [
           {
            "colorbar": {
             "outlinewidth": 0,
             "ticks": ""
            },
            "type": "choropleth"
           }
          ],
          "contour": [
           {
            "colorbar": {
             "outlinewidth": 0,
             "ticks": ""
            },
            "colorscale": [
             [
              0,
              "#0d0887"
             ],
             [
              0.1111111111111111,
              "#46039f"
             ],
             [
              0.2222222222222222,
              "#7201a8"
             ],
             [
              0.3333333333333333,
              "#9c179e"
             ],
             [
              0.4444444444444444,
              "#bd3786"
             ],
             [
              0.5555555555555556,
              "#d8576b"
             ],
             [
              0.6666666666666666,
              "#ed7953"
             ],
             [
              0.7777777777777778,
              "#fb9f3a"
             ],
             [
              0.8888888888888888,
              "#fdca26"
             ],
             [
              1,
              "#f0f921"
             ]
            ],
            "type": "contour"
           }
          ],
          "contourcarpet": [
           {
            "colorbar": {
             "outlinewidth": 0,
             "ticks": ""
            },
            "type": "contourcarpet"
           }
          ],
          "heatmap": [
           {
            "colorbar": {
             "outlinewidth": 0,
             "ticks": ""
            },
            "colorscale": [
             [
              0,
              "#0d0887"
             ],
             [
              0.1111111111111111,
              "#46039f"
             ],
             [
              0.2222222222222222,
              "#7201a8"
             ],
             [
              0.3333333333333333,
              "#9c179e"
             ],
             [
              0.4444444444444444,
              "#bd3786"
             ],
             [
              0.5555555555555556,
              "#d8576b"
             ],
             [
              0.6666666666666666,
              "#ed7953"
             ],
             [
              0.7777777777777778,
              "#fb9f3a"
             ],
             [
              0.8888888888888888,
              "#fdca26"
             ],
             [
              1,
              "#f0f921"
             ]
            ],
            "type": "heatmap"
           }
          ],
          "histogram": [
           {
            "marker": {
             "pattern": {
              "fillmode": "overlay",
              "size": 10,
              "solidity": 0.2
             }
            },
            "type": "histogram"
           }
          ],
          "histogram2d": [
           {
            "colorbar": {
             "outlinewidth": 0,
             "ticks": ""
            },
            "colorscale": [
             [
              0,
              "#0d0887"
             ],
             [
              0.1111111111111111,
              "#46039f"
             ],
             [
              0.2222222222222222,
              "#7201a8"
             ],
             [
              0.3333333333333333,
              "#9c179e"
             ],
             [
              0.4444444444444444,
              "#bd3786"
             ],
             [
              0.5555555555555556,
              "#d8576b"
             ],
             [
              0.6666666666666666,
              "#ed7953"
             ],
             [
              0.7777777777777778,
              "#fb9f3a"
             ],
             [
              0.8888888888888888,
              "#fdca26"
             ],
             [
              1,
              "#f0f921"
             ]
            ],
            "type": "histogram2d"
           }
          ],
          "histogram2dcontour": [
           {
            "colorbar": {
             "outlinewidth": 0,
             "ticks": ""
            },
            "colorscale": [
             [
              0,
              "#0d0887"
             ],
             [
              0.1111111111111111,
              "#46039f"
             ],
             [
              0.2222222222222222,
              "#7201a8"
             ],
             [
              0.3333333333333333,
              "#9c179e"
             ],
             [
              0.4444444444444444,
              "#bd3786"
             ],
             [
              0.5555555555555556,
              "#d8576b"
             ],
             [
              0.6666666666666666,
              "#ed7953"
             ],
             [
              0.7777777777777778,
              "#fb9f3a"
             ],
             [
              0.8888888888888888,
              "#fdca26"
             ],
             [
              1,
              "#f0f921"
             ]
            ],
            "type": "histogram2dcontour"
           }
          ],
          "mesh3d": [
           {
            "colorbar": {
             "outlinewidth": 0,
             "ticks": ""
            },
            "type": "mesh3d"
           }
          ],
          "parcoords": [
           {
            "line": {
             "colorbar": {
              "outlinewidth": 0,
              "ticks": ""
             }
            },
            "type": "parcoords"
           }
          ],
          "pie": [
           {
            "automargin": true,
            "type": "pie"
           }
          ],
          "scatter": [
           {
            "fillpattern": {
             "fillmode": "overlay",
             "size": 10,
             "solidity": 0.2
            },
            "type": "scatter"
           }
          ],
          "scatter3d": [
           {
            "line": {
             "colorbar": {
              "outlinewidth": 0,
              "ticks": ""
             }
            },
            "marker": {
             "colorbar": {
              "outlinewidth": 0,
              "ticks": ""
             }
            },
            "type": "scatter3d"
           }
          ],
          "scattercarpet": [
           {
            "marker": {
             "colorbar": {
              "outlinewidth": 0,
              "ticks": ""
             }
            },
            "type": "scattercarpet"
           }
          ],
          "scattergeo": [
           {
            "marker": {
             "colorbar": {
              "outlinewidth": 0,
              "ticks": ""
             }
            },
            "type": "scattergeo"
           }
          ],
          "scattergl": [
           {
            "marker": {
             "colorbar": {
              "outlinewidth": 0,
              "ticks": ""
             }
            },
            "type": "scattergl"
           }
          ],
          "scattermap": [
           {
            "marker": {
             "colorbar": {
              "outlinewidth": 0,
              "ticks": ""
             }
            },
            "type": "scattermap"
           }
          ],
          "scattermapbox": [
           {
            "marker": {
             "colorbar": {
              "outlinewidth": 0,
              "ticks": ""
             }
            },
            "type": "scattermapbox"
           }
          ],
          "scatterpolar": [
           {
            "marker": {
             "colorbar": {
              "outlinewidth": 0,
              "ticks": ""
             }
            },
            "type": "scatterpolar"
           }
          ],
          "scatterpolargl": [
           {
            "marker": {
             "colorbar": {
              "outlinewidth": 0,
              "ticks": ""
             }
            },
            "type": "scatterpolargl"
           }
          ],
          "scatterternary": [
           {
            "marker": {
             "colorbar": {
              "outlinewidth": 0,
              "ticks": ""
             }
            },
            "type": "scatterternary"
           }
          ],
          "surface": [
           {
            "colorbar": {
             "outlinewidth": 0,
             "ticks": ""
            },
            "colorscale": [
             [
              0,
              "#0d0887"
             ],
             [
              0.1111111111111111,
              "#46039f"
             ],
             [
              0.2222222222222222,
              "#7201a8"
             ],
             [
              0.3333333333333333,
              "#9c179e"
             ],
             [
              0.4444444444444444,
              "#bd3786"
             ],
             [
              0.5555555555555556,
              "#d8576b"
             ],
             [
              0.6666666666666666,
              "#ed7953"
             ],
             [
              0.7777777777777778,
              "#fb9f3a"
             ],
             [
              0.8888888888888888,
              "#fdca26"
             ],
             [
              1,
              "#f0f921"
             ]
            ],
            "type": "surface"
           }
          ],
          "table": [
           {
            "cells": {
             "fill": {
              "color": "#EBF0F8"
             },
             "line": {
              "color": "white"
             }
            },
            "header": {
             "fill": {
              "color": "#C8D4E3"
             },
             "line": {
              "color": "white"
             }
            },
            "type": "table"
           }
          ]
         },
         "layout": {
          "annotationdefaults": {
           "arrowcolor": "#2a3f5f",
           "arrowhead": 0,
           "arrowwidth": 1
          },
          "autotypenumbers": "strict",
          "coloraxis": {
           "colorbar": {
            "outlinewidth": 0,
            "ticks": ""
           }
          },
          "colorscale": {
           "diverging": [
            [
             0,
             "#8e0152"
            ],
            [
             0.1,
             "#c51b7d"
            ],
            [
             0.2,
             "#de77ae"
            ],
            [
             0.3,
             "#f1b6da"
            ],
            [
             0.4,
             "#fde0ef"
            ],
            [
             0.5,
             "#f7f7f7"
            ],
            [
             0.6,
             "#e6f5d0"
            ],
            [
             0.7,
             "#b8e186"
            ],
            [
             0.8,
             "#7fbc41"
            ],
            [
             0.9,
             "#4d9221"
            ],
            [
             1,
             "#276419"
            ]
           ],
           "sequential": [
            [
             0,
             "#0d0887"
            ],
            [
             0.1111111111111111,
             "#46039f"
            ],
            [
             0.2222222222222222,
             "#7201a8"
            ],
            [
             0.3333333333333333,
             "#9c179e"
            ],
            [
             0.4444444444444444,
             "#bd3786"
            ],
            [
             0.5555555555555556,
             "#d8576b"
            ],
            [
             0.6666666666666666,
             "#ed7953"
            ],
            [
             0.7777777777777778,
             "#fb9f3a"
            ],
            [
             0.8888888888888888,
             "#fdca26"
            ],
            [
             1,
             "#f0f921"
            ]
           ],
           "sequentialminus": [
            [
             0,
             "#0d0887"
            ],
            [
             0.1111111111111111,
             "#46039f"
            ],
            [
             0.2222222222222222,
             "#7201a8"
            ],
            [
             0.3333333333333333,
             "#9c179e"
            ],
            [
             0.4444444444444444,
             "#bd3786"
            ],
            [
             0.5555555555555556,
             "#d8576b"
            ],
            [
             0.6666666666666666,
             "#ed7953"
            ],
            [
             0.7777777777777778,
             "#fb9f3a"
            ],
            [
             0.8888888888888888,
             "#fdca26"
            ],
            [
             1,
             "#f0f921"
            ]
           ]
          },
          "colorway": [
           "#636efa",
           "#EF553B",
           "#00cc96",
           "#ab63fa",
           "#FFA15A",
           "#19d3f3",
           "#FF6692",
           "#B6E880",
           "#FF97FF",
           "#FECB52"
          ],
          "font": {
           "color": "#2a3f5f"
          },
          "geo": {
           "bgcolor": "white",
           "lakecolor": "white",
           "landcolor": "#E5ECF6",
           "showlakes": true,
           "showland": true,
           "subunitcolor": "white"
          },
          "hoverlabel": {
           "align": "left"
          },
          "hovermode": "closest",
          "mapbox": {
           "style": "light"
          },
          "paper_bgcolor": "white",
          "plot_bgcolor": "#E5ECF6",
          "polar": {
           "angularaxis": {
            "gridcolor": "white",
            "linecolor": "white",
            "ticks": ""
           },
           "bgcolor": "#E5ECF6",
           "radialaxis": {
            "gridcolor": "white",
            "linecolor": "white",
            "ticks": ""
           }
          },
          "scene": {
           "xaxis": {
            "backgroundcolor": "#E5ECF6",
            "gridcolor": "white",
            "gridwidth": 2,
            "linecolor": "white",
            "showbackground": true,
            "ticks": "",
            "zerolinecolor": "white"
           },
           "yaxis": {
            "backgroundcolor": "#E5ECF6",
            "gridcolor": "white",
            "gridwidth": 2,
            "linecolor": "white",
            "showbackground": true,
            "ticks": "",
            "zerolinecolor": "white"
           },
           "zaxis": {
            "backgroundcolor": "#E5ECF6",
            "gridcolor": "white",
            "gridwidth": 2,
            "linecolor": "white",
            "showbackground": true,
            "ticks": "",
            "zerolinecolor": "white"
           }
          },
          "shapedefaults": {
           "line": {
            "color": "#2a3f5f"
           }
          },
          "ternary": {
           "aaxis": {
            "gridcolor": "white",
            "linecolor": "white",
            "ticks": ""
           },
           "baxis": {
            "gridcolor": "white",
            "linecolor": "white",
            "ticks": ""
           },
           "bgcolor": "#E5ECF6",
           "caxis": {
            "gridcolor": "white",
            "linecolor": "white",
            "ticks": ""
           }
          },
          "title": {
           "x": 0.05
          },
          "xaxis": {
           "automargin": true,
           "gridcolor": "white",
           "linecolor": "white",
           "ticks": "",
           "title": {
            "standoff": 15
           },
           "zerolinecolor": "white",
           "zerolinewidth": 2
          },
          "yaxis": {
           "automargin": true,
           "gridcolor": "white",
           "linecolor": "white",
           "ticks": "",
           "title": {
            "standoff": 15
           },
           "zerolinecolor": "white",
           "zerolinewidth": 2
          }
         }
        },
        "title": {
         "text": "Быстродействие серверов различных отраслей"
        },
        "xaxis": {
         "title": {
          "text": "№ попытки"
         }
        },
        "yaxis": {
         "title": {
          "text": "Время отклика, мс"
         }
        }
       }
      }
     },
     "metadata": {},
     "output_type": "display_data"
    }
   ],
   "source": [
    "import time\n",
    "import plotly.graph_objs as go\n",
    "\n",
    "\n",
    "def measure_handshake(hostname):\n",
    "    timeline = []\n",
    "    for _ in range(50):\n",
    "        start = time.time()\n",
    "        try:\n",
    "            context = ssl.create_default_context()\n",
    "            with socket.create_connection((hostname, 443)) as sock:\n",
    "                with context.wrap_socket(sock, server_hostname=hostname):\n",
    "                    handshake_time = (time.time() - start) * 1000  # мс\n",
    "                    timeline.append(handshake_time)\n",
    "        except Exception as e:\n",
    "            print(f\"Ошибка: {e}\")\n",
    "    return timeline\n",
    "\n",
    "\n",
    "fig = go.Figure()\n",
    "\n",
    "fig.add_trace(go.Scatter(\n",
    "    y=measure_handshake(server_int),\n",
    "    name=\"Международный сервер\"\n",
    "))\n",
    "\n",
    "fig.add_trace(go.Scatter(\n",
    "    y=measure_handshake(server_gos),\n",
    "    name=\"Государственный сервер\"\n",
    "))\n",
    "\n",
    "fig.add_trace(go.Scatter(\n",
    "    y=measure_handshake(server_com),\n",
    "    name=\"Коммерческий сервер\"\n",
    "))\n",
    "\n",
    "fig.update_layout(\n",
    "    title=\"Быстродействие серверов различных отраслей\",\n",
    "    xaxis_title=\"№ попытки\",\n",
    "    yaxis_title=\"Время отклика, мс\"\n",
    ")"
   ]
  },
  {
   "cell_type": "markdown",
   "id": "2a67e446",
   "metadata": {},
   "source": [
    "## 5. Проверка поддержки устаревших TLS (1.0, 1.1)"
   ]
  },
  {
   "cell_type": "code",
   "execution_count": 5,
   "id": "bad30527",
   "metadata": {},
   "outputs": [
    {
     "name": "stdout",
     "output_type": "stream",
     "text": [
      "\n",
      "--- Проверка google.com ---\n",
      "TLS 1.0: ❌ Не поддерживается\n",
      "TLS 1.1: ❌ Не поддерживается\n",
      "TLS 1.2: ✅ Поддерживается\n",
      "\n",
      "--- Проверка gosuslugi.ru ---\n",
      "TLS 1.0: ❌ Не поддерживается\n",
      "TLS 1.1: ❌ Не поддерживается\n",
      "TLS 1.2: ✅ Поддерживается\n",
      "\n",
      "--- Проверка yandex.ru ---\n",
      "TLS 1.0: ❌ Не поддерживается\n",
      "TLS 1.1: ❌ Не поддерживается\n",
      "TLS 1.2: ✅ Поддерживается\n"
     ]
    },
    {
     "name": "stderr",
     "output_type": "stream",
     "text": [
      "C:\\Users\\Zenbook\\AppData\\Local\\Temp\\ipykernel_8128\\2372643406.py:11: DeprecationWarning:\n",
      "\n",
      "ssl.PROTOCOL_TLSv1 is deprecated\n",
      "\n",
      "C:\\Users\\Zenbook\\AppData\\Local\\Temp\\ipykernel_8128\\2372643406.py:11: DeprecationWarning:\n",
      "\n",
      "ssl.PROTOCOL_TLSv1_1 is deprecated\n",
      "\n",
      "C:\\Users\\Zenbook\\AppData\\Local\\Temp\\ipykernel_8128\\2372643406.py:11: DeprecationWarning:\n",
      "\n",
      "ssl.PROTOCOL_TLSv1_2 is deprecated\n",
      "\n"
     ]
    }
   ],
   "source": [
    "def test_deprecated_tls(hostname):\n",
    "    versions = {\n",
    "        \"TLS 1.0\": ssl.PROTOCOL_TLSv1,\n",
    "        \"TLS 1.1\": ssl.PROTOCOL_TLSv1_1,\n",
    "        \"TLS 1.2\": ssl.PROTOCOL_TLSv1_2,\n",
    "    }\n",
    "\n",
    "    print(f\"\\n--- Проверка {hostname} ---\")\n",
    "    for name, proto in versions.items():\n",
    "        try:\n",
    "            context = ssl.SSLContext(proto)\n",
    "            with socket.create_connection((hostname, 443)) as sock:\n",
    "                with context.wrap_socket(sock, server_hostname=hostname):\n",
    "                    print(f\"{name}: ✅ Поддерживается\")\n",
    "        except:\n",
    "            print(f\"{name}: ❌ Не поддерживается\")\n",
    "\n",
    "\n",
    "test_deprecated_tls(server_int)\n",
    "test_deprecated_tls(server_gos)\n",
    "test_deprecated_tls(server_com)"
   ]
  },
  {
   "cell_type": "markdown",
   "id": "faaa7d82",
   "metadata": {},
   "source": [
    "## 6. Анализ полученных результатов\n",
    "\n",
    "### Сравнительный анализ сертификатов\n",
    "\n",
    "| Параметр           | google.com               | gosuslugi.ru            | yandex.ru               |\n",
    "|--------------------|--------------------------|-------------------------|-------------------------|\n",
    "| **Удостоверяющий центр** | Google Trust Services (WE2) | GlobalSign GCC R3 DV TLS CA 2020 | GlobalSign ECC OV SSL CA 2018 |\n",
    "| **Алгоритм подписи** | ECDSA-SHA256 (1.2.840.10045.4.3.2) | RSA-SHA256 (1.2.840.113549.1.1.11) | ECDSA-SHA384 (1.2.840.10045.4.3.3) |\n",
    "| **Срок действия**  | До 12.06.2025           | До 23.11.2025           | До 03.06.2025           |\n",
    "| **Тип сертификата** | EV (Extended Validation) | DV (Domain Validation)  | OV (Organization Validation) |\n",
    "\n",
    "- Все сертификаты действительны и имеют стандартные сроки действия (1-2 года)\n",
    "- Google использует собственный УЦ, тогда как Yandex и Госуслуги доверяют GlobalSign\n",
    "- Алгоритмы подписи различаются: ECDSA у Google/Yandex vs RSA у Госуслуг\n",
    "\n",
    "### Оценка удостоверяющих центров\n",
    "\n",
    "- **Google Trust Services:**\n",
    "  - Собственная инфраструктура PKI\n",
    "  - Максимальный контроль над цепочкой доверия\n",
    "  - Быстрое обновление сертификатов\n",
    "\n",
    "- **GlobalSign:**\n",
    "  - Международно признанный УЦ\n",
    "  - Поддержка как RSA, так и ECC сертификатов\n",
    "  - Разные уровни проверки (DV/OV/EV)\n",
    "\n",
    "### Рекомендации по безопасности\n",
    "\n",
    "1. Для **google.com:**\n",
    "   - Идеальная конфигурация (ECDSA + собственный УЦ)\n",
    "   - Рекомендуется мониторить переход на постквантовые алгоритмы\n",
    "\n",
    "2. Для **gosuslugi.ru:**\n",
    "   - Переход с RSA на ECDSA ускорит TLS-рукопожатия\n",
    "   - Рассмотреть возможность использования российского УЦ для госструктур\n",
    "\n",
    "3. Для **yandex.ru:**\n",
    "   - Оптимальный баланс безопасности и производительности\n",
    "   - Возможность перехода на сертификаты с российским УЦ\n",
    "\n",
    "### Выводы\n",
    "\n",
    "1. Все исследуемые серверы используют актуальные и безопасные конфигурации сертификатов.\n",
    "2. Наблюдается тенденция к переходу на ECDSA вместо RSA.\n",
    "3. Госуслуги демонстрируют консервативный подход с использованием RSA, что может быть связано с требованиями ФСБ.\n",
    "4. Международные УЦ (GlobalSign) остаются популярным выбором даже для российских компаний."
   ]
  }
 ],
 "metadata": {
  "kernelspec": {
   "display_name": ".venv",
   "language": "python",
   "name": "python3"
  },
  "language_info": {
   "codemirror_mode": {
    "name": "ipython",
    "version": 3
   },
   "file_extension": ".py",
   "mimetype": "text/x-python",
   "name": "python",
   "nbconvert_exporter": "python",
   "pygments_lexer": "ipython3",
   "version": "3.13.3"
  }
 },
 "nbformat": 4,
 "nbformat_minor": 5
}
